{
 "cells": [
  {
   "cell_type": "markdown",
   "id": "ef9a6f86",
   "metadata": {},
   "source": [
    "# Example usage of Feature Logic package"
   ]
  },
  {
   "cell_type": "code",
   "execution_count": null,
   "id": "b32cf810",
   "metadata": {},
   "outputs": [],
   "source": [
    "%load_ext autoreload\n",
    "%autoreload 2\n",
    "\n",
    "from pyspark.sql import functions as sf, DataFrame, SparkSession\n",
    "\n",
    "from feature_logic.main import compute_features\n",
    "from feature_logic.feature_groups.zone import Zone\n",
    "\n",
    "spark = SparkSession.builder.getOrCreate()"
   ]
  },
  {
   "cell_type": "markdown",
   "id": "f8700d01",
   "metadata": {},
   "source": [
    "# Basic usage\n",
    "\n",
    "Define the features you want to compute and call the `compute_features` function."
   ]
  },
  {
   "cell_type": "code",
   "execution_count": 2,
   "id": "ddadef38",
   "metadata": {},
   "outputs": [
    {
     "name": "stderr",
     "output_type": "stream",
     "text": [
      "                                                                                \r"
     ]
    },
    {
     "name": "stdout",
     "output_type": "stream",
     "text": [
      "shape:  (91064, 1)\n",
      "   avatarId\n",
      "0        29\n",
      "1      1806\n",
      "2      9233\n",
      "3      2040\n",
      "4        26\n"
     ]
    }
   ],
   "source": [
    "aggregation_level = \"avatarId\"\n",
    "scope = spark.read.parquet(\"data/wow.parquet\").select(aggregation_level).distinct()\n",
    "\n",
    "features = compute_features(\n",
    "    scope=scope, \n",
    "    feature_groups=[\n",
    "        Zone(spark=spark, features_of_interest=[\"darkshore_likelyhood\"], aggregation_level=aggregation_level),\n",
    "    ]).toPandas()\n",
    "print(\"shape: \", features.shape)\n",
    "print(features.head())"
   ]
  },
  {
   "cell_type": "markdown",
   "id": "06da437d",
   "metadata": {},
   "source": [
    "### You can compute features on different aggregation levels\n",
    "\n",
    "As long as the feature group supports it you can compute features on different aggregation levels.\n",
    "One call to the feature logic package (with `compute_features`) will always only be on one level since it makes sense to compute your features on a specific level.\n",
    "\n",
    "See example below.\n"
   ]
  },
  {
   "cell_type": "code",
   "execution_count": 3,
   "id": "ddadef38",
   "metadata": {},
   "outputs": [
    {
     "name": "stderr",
     "output_type": "stream",
     "text": [
      "                                                                                \r"
     ]
    },
    {
     "name": "stdout",
     "output_type": "stream",
     "text": [
      "shape:  (91064, 1)\n",
      "   avatarId\n",
      "0        29\n",
      "1      1806\n",
      "2      9233\n",
      "3      2040\n",
      "4        26\n"
     ]
    },
    {
     "name": "stderr",
     "output_type": "stream",
     "text": [
      "[Stage 18:===============> (9 + 1) / 10][Stage 19:===============> (9 + 1) / 10]\r"
     ]
    },
    {
     "name": "stdout",
     "output_type": "stream",
     "text": [
      "shape:  (514, 1)\n",
      "   guild\n",
      "0     26\n",
      "1     29\n",
      "2    474\n",
      "3     65\n",
      "4    191\n"
     ]
    },
    {
     "name": "stderr",
     "output_type": "stream",
     "text": [
      "                                                                                \r"
     ]
    }
   ],
   "source": [
    "for aggregation_level in [\"avatarId\", \"guild\"]:\n",
    "    scope = spark.read.parquet(\"data/wow.parquet\").select(aggregation_level).distinct()\n",
    "\n",
    "    features = compute_features(\n",
    "        scope=scope, \n",
    "        feature_groups=[\n",
    "            Zone(spark=spark, features_of_interest=[\"darkshore_likelyhood\"], aggregation_level=aggregation_level),\n",
    "        ]).toPandas()\n",
    "    print(\"shape: \", features.shape)\n",
    "    print(features.head())"
   ]
  }
 ],
 "metadata": {
  "kernelspec": {
   "display_name": "Python 3.10.6 ('.venv': poetry)",
   "language": "python",
   "name": "python3"
  },
  "language_info": {
   "codemirror_mode": {
    "name": "ipython",
    "version": 3
   },
   "file_extension": ".py",
   "mimetype": "text/x-python",
   "name": "python",
   "nbconvert_exporter": "python",
   "pygments_lexer": "ipython3",
   "version": "3.10.6"
  },
  "vscode": {
   "interpreter": {
    "hash": "27937f0cd3585be7ed68865d2a66aaa4a110b3f3aa29beabde5e07fbe7ced6f0"
   }
  }
 },
 "nbformat": 4,
 "nbformat_minor": 5
}
