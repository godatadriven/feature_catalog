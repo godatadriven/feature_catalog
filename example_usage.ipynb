{
 "cells": [
  {
   "cell_type": "code",
   "execution_count": 2,
   "id": "b32cf810",
   "metadata": {},
   "outputs": [
    {
     "name": "stdout",
     "output_type": "stream",
     "text": [
      "22/10/21 14:10:30 WARN Utils: Your hostname, Roels-MacBook-Pro-2.local resolves to a loopback address: 127.0.0.1; using 172.16.232.237 instead (on interface en0)\n",
      "22/10/21 14:10:30 WARN Utils: Set SPARK_LOCAL_IP if you need to bind to another address\n"
     ]
    },
    {
     "name": "stderr",
     "output_type": "stream",
     "text": [
      "Setting default log level to \"WARN\".\n",
      "To adjust logging level use sc.setLogLevel(newLevel). For SparkR, use setLogLevel(newLevel).\n"
     ]
    },
    {
     "name": "stdout",
     "output_type": "stream",
     "text": [
      "22/10/21 14:10:30 WARN NativeCodeLoader: Unable to load native-hadoop library for your platform... using builtin-java classes where applicable\n"
     ]
    }
   ],
   "source": [
    "from pyspark.sql import functions as sf, DataFrame, SparkSession\n",
    "\n",
    "spark = SparkSession.builder.getOrCreate()\n",
    "\n",
    "from feature_logic.main import create_features\n",
    "from feature_logic.feature_groups.test_group import LocationFeatures"
   ]
  },
  {
   "cell_type": "code",
   "execution_count": 4,
   "id": "c4ca7e7f",
   "metadata": {},
   "outputs": [],
   "source": [
    "data = spark.createDataFrame([dict(party_id=\"a\"), dict(party_id=\"b\"), dict(party_id=\"c\")])\n",
    "\n",
    "location_data = spark.createDataFrame([\n",
    "    dict(party_id=\"a\", postcode=\"1234AB\"),\n",
    "    dict(party_id=\"b\", postcode=\"1234BC\"),\n",
    "    dict(party_id=\"c\", postcode=\"\"),\n",
    "])\n",
    "try:\n",
    "    location_data.write.parquet(\"data/location_data.parquet\")\n",
    "except:\n",
    "    pass"
   ]
  },
  {
   "cell_type": "code",
   "execution_count": 5,
   "id": "c889d24b",
   "metadata": {},
   "outputs": [
    {
     "name": "stdout",
     "output_type": "stream",
     "text": [
      "['party_id'] ['party_id']\n",
      "<feature_logic.feature_groups.test_group.LocationFeatures object at 0x1072ea9b0> apply ['party_id']\n",
      "[Column<'location.postcode AS postcode'>]\n"
     ]
    }
   ],
   "source": [
    "features = create_features(\n",
    "    data=data,\n",
    "    level=\"party\", \n",
    "    feature_groups=[\n",
    "        LocationFeatures(spark=spark, features=[\"postcode\"]),\n",
    "    ])"
   ]
  },
  {
   "cell_type": "code",
   "execution_count": 6,
   "id": "5ec7ef7c",
   "metadata": {},
   "outputs": [
    {
     "data": {
      "text/html": [
       "<div>\n",
       "<style scoped>\n",
       "    .dataframe tbody tr th:only-of-type {\n",
       "        vertical-align: middle;\n",
       "    }\n",
       "\n",
       "    .dataframe tbody tr th {\n",
       "        vertical-align: top;\n",
       "    }\n",
       "\n",
       "    .dataframe thead th {\n",
       "        text-align: right;\n",
       "    }\n",
       "</style>\n",
       "<table border=\"1\" class=\"dataframe\">\n",
       "  <thead>\n",
       "    <tr style=\"text-align: right;\">\n",
       "      <th></th>\n",
       "      <th>party_id</th>\n",
       "      <th>postcode</th>\n",
       "    </tr>\n",
       "  </thead>\n",
       "  <tbody>\n",
       "    <tr>\n",
       "      <th>0</th>\n",
       "      <td>a</td>\n",
       "      <td>1234AB</td>\n",
       "    </tr>\n",
       "    <tr>\n",
       "      <th>1</th>\n",
       "      <td>b</td>\n",
       "      <td>1234BC</td>\n",
       "    </tr>\n",
       "    <tr>\n",
       "      <th>2</th>\n",
       "      <td>c</td>\n",
       "      <td></td>\n",
       "    </tr>\n",
       "  </tbody>\n",
       "</table>\n",
       "</div>"
      ],
      "text/plain": [
       "  party_id postcode\n",
       "0        a   1234AB\n",
       "1        b   1234BC\n",
       "2        c         "
      ]
     },
     "execution_count": 6,
     "metadata": {},
     "output_type": "execute_result"
    }
   ],
   "source": [
    "features.toPandas()"
   ]
  },
  {
   "cell_type": "code",
   "execution_count": 7,
   "id": "b6379788",
   "metadata": {},
   "outputs": [
    {
     "ename": "NameError",
     "evalue": "name 'stop' is not defined",
     "output_type": "error",
     "traceback": [
      "\u001b[0;31m---------------------------------------------------------------------------\u001b[0m",
      "\u001b[0;31mNameError\u001b[0m                                 Traceback (most recent call last)",
      "Cell \u001b[0;32mIn [7], line 1\u001b[0m\n\u001b[0;32m----> 1\u001b[0m \u001b[43mstop\u001b[49m\n",
      "\u001b[0;31mNameError\u001b[0m: name 'stop' is not defined"
     ]
    }
   ],
   "source": [
    "stop"
   ]
  },
  {
   "cell_type": "code",
   "execution_count": null,
   "id": "24ff74f6",
   "metadata": {},
   "outputs": [],
   "source": [
    "\n",
    "wow = spark.read.parquet(\"wow.parquet\")\n",
    "wow.limit(10).toPandas()"
   ]
  },
  {
   "cell_type": "code",
   "execution_count": null,
   "id": "15caf6cd",
   "metadata": {},
   "outputs": [],
   "source": [
    "wow.select(\"zone\").distinct().collect()"
   ]
  },
  {
   "cell_type": "code",
   "execution_count": null,
   "id": "253c9a93",
   "metadata": {},
   "outputs": [],
   "source": [
    "(\n",
    "    wow\n",
    "    .withColumn(\"durotar_flag\", sf.when(sf.col(\"zone\") == \" Durotar\", 1).otherwise(0))\n",
    "    .groupby(\"avatarId\")\n",
    "    .agg(\n",
    "        sf.count(\"*\").alias(\"total_count\"),\n",
    "        sf.sum(\"durotar_flag\").alias(\"durotar_count\")\n",
    "    )\n",
    "    .withColumn(\"durotar_prob\", sf.col(\"durotar_count\") / sf.col(\"total_count\"))\n",
    "    .show()\n",
    ")"
   ]
  },
  {
   "cell_type": "code",
   "execution_count": null,
   "id": "020bf42f",
   "metadata": {},
   "outputs": [],
   "source": []
  }
 ],
 "metadata": {
  "kernelspec": {
   "display_name": "Python 3.10.6 ('.venv': poetry)",
   "language": "python",
   "name": "python3"
  },
  "language_info": {
   "codemirror_mode": {
    "name": "ipython",
    "version": 3
   },
   "file_extension": ".py",
   "mimetype": "text/x-python",
   "name": "python",
   "nbconvert_exporter": "python",
   "pygments_lexer": "ipython3",
   "version": "3.10.6"
  },
  "vscode": {
   "interpreter": {
    "hash": "27937f0cd3585be7ed68865d2a66aaa4a110b3f3aa29beabde5e07fbe7ced6f0"
   }
  }
 },
 "nbformat": 4,
 "nbformat_minor": 5
}
